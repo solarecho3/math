{
 "cells": [
  {
   "cell_type": "markdown",
   "metadata": {},
   "source": [
    "# Function check\n",
    "\n",
    "Does this relation represent a function?\n",
    "\n",
    "Check each independent variable, and if it reappears in the list, is the dependent variable the same as the first appearance? If so, this is a function.\n",
    "\n",
    "This will dumbly check each and print it's results in a very spaghetti spill way.\n",
    "\n",
    "It then swaps domain and range and checks if the opposing relation is a function as well. Check outputs...\n",
    "\n",
    "So, does $y=f(x)$?\n",
    "\n",
    "Inputs can share outputs, but one input cannot have more than one output. Because when the function takes an input it has to be deterministic which output will occur every time or it isn't a function.\n",
    "\n",
    "---\n",
    "\n",
    "**From Precalculus, OpenStax**\n",
    "\n",
    "Instead of a notation such as $y = f (x)$, could we use the same symbol for the output as for the function, such as\n",
    "$y = y (x)$, meaning *“y is a function of x?”*\n",
    "Yes, this is often done, especially in applied subjects that use higher math, such as physics and engineering.\n",
    "However, in exploring math itself we like to maintain a distinction between a function such as $f$, which is a rule or\n",
    "procedure, and the output $y$ we get by applying $f$ to a particular input $x$. This is why we usually use notation such as\n",
    "$y = f (x)$, $P = W(d)$, and so on."
   ]
  },
  {
   "cell_type": "code",
   "execution_count": 11,
   "metadata": {},
   "outputs": [
    {
     "name": "stdout",
     "output_type": "stream",
     "text": [
      "Relation: {('April', 30), ('September', 30), ('November', 30), ('August', 31), ('June', 30), ('July', 31), ('May', 31), ('March', 31), ('December', 31), ('October', 31), ('January', 31), ('February', 28)}\n",
      "0: i=April, o=30\n",
      "1: i=September, o=30\n",
      "2: i=November, o=30\n",
      "3: i=August, o=31\n",
      "4: i=June, o=30\n",
      "5: i=July, o=31\n",
      "6: i=May, o=31\n",
      "7: i=March, o=31\n",
      "8: i=December, o=31\n",
      "9: i=October, o=31\n",
      "10: i=January, o=31\n",
      "11: i=February, o=28\n",
      "\n",
      "i: independent variable, input\n",
      "o: dependent variable, output\n",
      "    \n",
      "Domain: ['April', 'September', 'November', 'August', 'June', 'July', 'May', 'March', 'December', 'October', 'January', 'February'], Range: [30, 30, 30, 31, 30, 31, 31, 31, 31, 31, 31, 28]\n",
      "[\"{('April', 30), ('September', 30), ('November', 30), ('August', 31), ('June', 30), ('July', 31), ('May', 31), ('March', 31), ('December', 31), ('October', 31), ('January', 31), ('February', 28)} was tested and passed the function check.\"] \n",
      "\n",
      "zipping [30, 30, 30, 31, 30, 31, 31, 31, 31, 31, 31, 28] to ['April', 'September', 'November', 'August', 'June', 'July', 'May', 'March', 'December', 'October', 'January', 'February']\n",
      "Relation: {(31, 'October'), (31, 'May'), (31, 'December'), (28, 'February'), (31, 'July'), (30, 'September'), (31, 'March'), (30, 'April'), (31, 'August'), (30, 'June'), (31, 'January'), (30, 'November')}\n",
      "0: i=31, o=October\n",
      "1: i=31, o=May\n",
      "31 in dict_keys([31])\n",
      "October != May\n"
     ]
    },
    {
     "ename": "UserWarning",
     "evalue": "Not a function, independent variable yields multiple outputs, not deterministic",
     "output_type": "error",
     "traceback": [
      "\u001b[0;31m---------------------------------------------------------------------------\u001b[0m",
      "\u001b[0;31mUserWarning\u001b[0m                               Traceback (most recent call last)",
      "\u001b[1;32m/home/pemba/Documents/Github/math/precalculus.ipynb Cell 2\u001b[0m in \u001b[0;36m<cell line: 60>\u001b[0;34m()\u001b[0m\n\u001b[1;32m     <a href='vscode-notebook-cell:/home/pemba/Documents/Github/math/precalculus.ipynb#W2sZmlsZQ%3D%3D?line=57'>58</a>\u001b[0m \u001b[39mrange\u001b[39m \u001b[39m=\u001b[39m []\n\u001b[1;32m     <a href='vscode-notebook-cell:/home/pemba/Documents/Github/math/precalculus.ipynb#W2sZmlsZQ%3D%3D?line=58'>59</a>\u001b[0m relation_dict \u001b[39m=\u001b[39m {}\n\u001b[0;32m---> <a href='vscode-notebook-cell:/home/pemba/Documents/Github/math/precalculus.ipynb#W2sZmlsZQ%3D%3D?line=59'>60</a>\u001b[0m check()\n\u001b[1;32m     <a href='vscode-notebook-cell:/home/pemba/Documents/Github/math/precalculus.ipynb#W2sZmlsZQ%3D%3D?line=61'>62</a>\u001b[0m relation_list\u001b[39m.\u001b[39mappend(\u001b[39mf\u001b[39m\u001b[39m'\u001b[39m\u001b[39m{\u001b[39;00mrelation\u001b[39m}\u001b[39;00m\u001b[39m was tested and passed the function check.\u001b[39m\u001b[39m'\u001b[39m)\n\u001b[1;32m     <a href='vscode-notebook-cell:/home/pemba/Documents/Github/math/precalculus.ipynb#W2sZmlsZQ%3D%3D?line=62'>63</a>\u001b[0m \u001b[39mprint\u001b[39m(relation_list)\n",
      "\u001b[1;32m/home/pemba/Documents/Github/math/precalculus.ipynb Cell 2\u001b[0m in \u001b[0;36mcheck\u001b[0;34m()\u001b[0m\n\u001b[1;32m     <a href='vscode-notebook-cell:/home/pemba/Documents/Github/math/precalculus.ipynb#W2sZmlsZQ%3D%3D?line=16'>17</a>\u001b[0m             \u001b[39mif\u001b[39;00m relation_dict[item[\u001b[39m0\u001b[39m]] \u001b[39m!=\u001b[39m item[\u001b[39m1\u001b[39m]:\n\u001b[1;32m     <a href='vscode-notebook-cell:/home/pemba/Documents/Github/math/precalculus.ipynb#W2sZmlsZQ%3D%3D?line=18'>19</a>\u001b[0m                 \u001b[39mprint\u001b[39m(\u001b[39mf\u001b[39m\u001b[39m'\u001b[39m\u001b[39m{\u001b[39;00mrelation_dict[item[\u001b[39m0\u001b[39m]]\u001b[39m}\u001b[39;00m\u001b[39m != \u001b[39m\u001b[39m{\u001b[39;00mitem[\u001b[39m1\u001b[39m]\u001b[39m}\u001b[39;00m\u001b[39m'\u001b[39m)\n\u001b[0;32m---> <a href='vscode-notebook-cell:/home/pemba/Documents/Github/math/precalculus.ipynb#W2sZmlsZQ%3D%3D?line=19'>20</a>\u001b[0m                 \u001b[39mraise\u001b[39;00m \u001b[39mUserWarning\u001b[39;00m(\u001b[39m'\u001b[39m\u001b[39mNot a function, independent \u001b[39m\u001b[39m\\\u001b[39;00m\n\u001b[1;32m     <a href='vscode-notebook-cell:/home/pemba/Documents/Github/math/precalculus.ipynb#W2sZmlsZQ%3D%3D?line=20'>21</a>\u001b[0m \u001b[39mvariable yields multiple outputs, not deterministic\u001b[39m\u001b[39m'\u001b[39m)\n\u001b[1;32m     <a href='vscode-notebook-cell:/home/pemba/Documents/Github/math/precalculus.ipynb#W2sZmlsZQ%3D%3D?line=22'>23</a>\u001b[0m         relation_dict[item[\u001b[39m0\u001b[39m]] \u001b[39m=\u001b[39m item[\u001b[39m1\u001b[39m]\n\u001b[1;32m     <a href='vscode-notebook-cell:/home/pemba/Documents/Github/math/precalculus.ipynb#W2sZmlsZQ%3D%3D?line=24'>25</a>\u001b[0m     \u001b[39mprint\u001b[39m(\u001b[39m'''\u001b[39m\n\u001b[1;32m     <a href='vscode-notebook-cell:/home/pemba/Documents/Github/math/precalculus.ipynb#W2sZmlsZQ%3D%3D?line=25'>26</a>\u001b[0m \u001b[39mi: independent variable, input\u001b[39m\n\u001b[1;32m     <a href='vscode-notebook-cell:/home/pemba/Documents/Github/math/precalculus.ipynb#W2sZmlsZQ%3D%3D?line=26'>27</a>\u001b[0m \u001b[39mo: dependent variable, output\u001b[39m\n\u001b[1;32m     <a href='vscode-notebook-cell:/home/pemba/Documents/Github/math/precalculus.ipynb#W2sZmlsZQ%3D%3D?line=27'>28</a>\u001b[0m \u001b[39m    \u001b[39m\u001b[39m'''\u001b[39m)\n",
      "\u001b[0;31mUserWarning\u001b[0m: Not a function, independent variable yields multiple outputs, not deterministic"
     ]
    }
   ],
   "source": [
    "def swap(_domain, _range):\n",
    "    print(f'zipping {_range} to {_domain}')\n",
    "    return list(zip(_range, _domain))\n",
    "\n",
    "def check():\n",
    "\n",
    "    for index, item in enumerate(relation):\n",
    "\n",
    "        print(f'{index}: i={item[0]}, o={item[1]}')\n",
    "        domain.append(item[0])\n",
    "        range_.append(item[1])\n",
    "\n",
    "        if item[0] in relation_dict.keys():\n",
    "\n",
    "            print(f'{item[0]} in {relation_dict.keys()}')\n",
    "\n",
    "            if relation_dict[item[0]] != item[1]:\n",
    "\n",
    "                print(f'{relation_dict[item[0]]} != {item[1]}')\n",
    "                raise UserWarning('Not a function, independent \\\n",
    "variable yields multiple outputs, not deterministic')\n",
    "\n",
    "        relation_dict[item[0]] = item[1]\n",
    "\n",
    "    print('''\n",
    "i: independent variable, input\n",
    "o: dependent variable, output\n",
    "    ''')\n",
    "    print(f'Domain: {domain}, Range: {range_}')\n",
    "\n",
    "# relation = {(1,2), (2,4), (3,6), (4,8), (5,10)} # function\n",
    "# relation = {(1,2), (2,4), (1,6), (4,8), (5,10)} # not a function\n",
    "# relation = {(1,2), (2,4), (1,2), (4,8), (5,10)} # function\n",
    "# relation = {('plain donut', 1.49), ('jelly donut', 1.99), ('chocolate donut', 1.99)} # function\n",
    "# relation = {(1.49, 'plain donut'), (1.99, 'jelly donut'), (1.99, 'chocolate donut')} # not a function\n",
    "# relation = {('0-56', 0.0), ('57-61', 1.0), ('62-66', 1.5), ('67-71', 2.0), ('72-77', 2.5), ('78-86', 3.0), ('87-91', 3.5), ('92-100', 4.0)} # function\n",
    "# relation = {('Babe Ruth', 1), ('Willie Mays', 2), ('Ty Cobb', 3), ('Walter Johnson', 4), ('Hank Aaron', 5)} # function\n",
    "relation = {('January', 31), ('February', 28), ('March', 31), ('April', 30), ('May', 31), ('June', 30), ('July', 31), ('August', 31), ('September', 30), ('October', 31), ('November', 30), ('December', 31)}\n",
    "\n",
    "\n",
    "\n",
    "print(f'Relation: {relation}')\n",
    "domain = []\n",
    "range_ = []\n",
    "relation_dict = {}\n",
    "check()\n",
    "\n",
    "relation_list = []\n",
    "relation_list.append(f'{relation} was tested and passed the function check.')\n",
    "print(relation_list, '\\n')\n",
    "\n",
    "# if you want to check and see the relation is a function\n",
    "# after swapping domain and range run next\n",
    "\n",
    "relation = set(swap(domain, range_))\n",
    "print(f'Relation: {relation}')\n",
    "domain = []\n",
    "range = []\n",
    "relation_dict = {}\n",
    "check()\n",
    "\n",
    "relation_list.append(f'{relation} was tested and passed the function check.')\n",
    "print(relation_list)"
   ]
  },
  {
   "cell_type": "code",
   "execution_count": null,
   "metadata": {},
   "outputs": [],
   "source": []
  }
 ],
 "metadata": {
  "kernelspec": {
   "display_name": "Python 3.10.7 64-bit",
   "language": "python",
   "name": "python3"
  },
  "language_info": {
   "codemirror_mode": {
    "name": "ipython",
    "version": 3
   },
   "file_extension": ".py",
   "mimetype": "text/x-python",
   "name": "python",
   "nbconvert_exporter": "python",
   "pygments_lexer": "ipython3",
   "version": "3.10.7"
  },
  "orig_nbformat": 4,
  "vscode": {
   "interpreter": {
    "hash": "916dbcbb3f70747c44a77c7bcd40155683ae19c65e1c03b4aa3499c5328201f1"
   }
  }
 },
 "nbformat": 4,
 "nbformat_minor": 2
}
