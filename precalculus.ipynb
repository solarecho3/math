{
 "cells": [
  {
   "cell_type": "code",
   "execution_count": 3,
   "metadata": {
    "vscode": {
     "languageId": "latex"
    }
   },
   "outputs": [
    {
     "ename": "SyntaxError",
     "evalue": "unexpected character after line continuation character (2086978760.py, line 1)",
     "output_type": "error",
     "traceback": [
      "\u001b[0;36m  Input \u001b[0;32mIn [3]\u001b[0;36m\u001b[0m\n\u001b[0;31m    \\title\u001b[0m\n\u001b[0m     ^\u001b[0m\n\u001b[0;31mSyntaxError\u001b[0m\u001b[0;31m:\u001b[0m unexpected character after line continuation character\n"
     ]
    }
   ],
   "source": []
  },
  {
   "cell_type": "markdown",
   "metadata": {},
   "source": [
    "# Function check\n",
    "\n",
    "Does this relation represent a function?\n",
    "\n",
    "Check each independent variable, and if it reappears in the list, is the dependent variable the same as the first appearance? If so, this is a function.\n",
    "\n",
    "This will dumbly check each and print it's results in a very spaghetti spill way.\n",
    "\n",
    "It then swaps domain and range and checks if the opposing relation is a function as well. Check outputs...\n",
    "\n",
    "So, does $y=f(x)$?\n",
    "\n",
    "Inputs can share outputs, but one input cannot have more than one output. Because when the function takes an input it has to be deterministic which output will occur every time or it isn't a function.\n",
    "\n",
    "---\n",
    "\n",
    "**From Precalculus, OpenStax**\n",
    "\n",
    "Instead of a notation such as $y = f (x)$, could we use the same symbol for the output as for the function, such as\n",
    "$y = y (x)$, meaning *“y is a function of x?”*\n",
    "Yes, this is often done, especially in applied subjects that use higher math, such as physics and engineering.\n",
    "However, in exploring math itself we like to maintain a distinction between a function such as $f$, which is a rule or\n",
    "procedure, and the output $y$ we get by applying $f$ to a particular input $x$. This is why we usually use notation such as\n",
    "$y = f (x)$, $P = W(d)$, and so on."
   ]
  },
  {
   "cell_type": "code",
   "execution_count": 16,
   "metadata": {},
   "outputs": [
    {
     "data": {
      "text/html": [
       "<div>\n",
       "<style scoped>\n",
       "    .dataframe tbody tr th:only-of-type {\n",
       "        vertical-align: middle;\n",
       "    }\n",
       "\n",
       "    .dataframe tbody tr th {\n",
       "        vertical-align: top;\n",
       "    }\n",
       "\n",
       "    .dataframe thead th {\n",
       "        text-align: right;\n",
       "    }\n",
       "</style>\n",
       "<table border=\"1\" class=\"dataframe\">\n",
       "  <thead>\n",
       "    <tr style=\"text-align: right;\">\n",
       "      <th></th>\n",
       "      <th>0</th>\n",
       "      <th>1</th>\n",
       "      <th>2</th>\n",
       "      <th>3</th>\n",
       "      <th>4</th>\n",
       "      <th>5</th>\n",
       "      <th>6</th>\n",
       "      <th>7</th>\n",
       "      <th>8</th>\n",
       "      <th>9</th>\n",
       "      <th>10</th>\n",
       "      <th>11</th>\n",
       "    </tr>\n",
       "  </thead>\n",
       "  <tbody>\n",
       "    <tr>\n",
       "      <th>Domain (input)</th>\n",
       "      <td>November</td>\n",
       "      <td>April</td>\n",
       "      <td>October</td>\n",
       "      <td>December</td>\n",
       "      <td>July</td>\n",
       "      <td>August</td>\n",
       "      <td>January</td>\n",
       "      <td>June</td>\n",
       "      <td>September</td>\n",
       "      <td>May</td>\n",
       "      <td>February</td>\n",
       "      <td>March</td>\n",
       "    </tr>\n",
       "    <tr>\n",
       "      <th>Range (ouput)</th>\n",
       "      <td>30</td>\n",
       "      <td>30</td>\n",
       "      <td>31</td>\n",
       "      <td>31</td>\n",
       "      <td>31</td>\n",
       "      <td>31</td>\n",
       "      <td>31</td>\n",
       "      <td>30</td>\n",
       "      <td>30</td>\n",
       "      <td>31</td>\n",
       "      <td>28</td>\n",
       "      <td>31</td>\n",
       "    </tr>\n",
       "  </tbody>\n",
       "</table>\n",
       "</div>"
      ],
      "text/plain": [
       "                      0      1        2         3     4       5        6   \\\n",
       "Domain (input)  November  April  October  December  July  August  January   \n",
       "Range (ouput)         30     30       31        31    31      31       31   \n",
       "\n",
       "                  7          8    9         10     11  \n",
       "Domain (input)  June  September  May  February  March  \n",
       "Range (ouput)     30         30   31        28     31  "
      ]
     },
     "execution_count": 16,
     "metadata": {},
     "output_type": "execute_result"
    }
   ],
   "source": [
    "import pandas\n",
    "\n",
    "# relation = {(1,2), (2,4), (3,6), (4,8), (5,10)} # function\n",
    "# relation = {(1,2), (2,4), (1,6), (4,8), (5,10)} # not a function\n",
    "# relation = {(1,2), (2,4), (1,2), (4,8), (5,10)} # function\n",
    "# relation = {('plain donut', 1.49), ('jelly donut', 1.99), ('chocolate donut', 1.99)} # function\n",
    "# relation = {(1.49, 'plain donut'), (1.99, 'jelly donut'), (1.99, 'chocolate donut')} # not a function\n",
    "# relation = {('0-56', 0.0), ('57-61', 1.0), ('62-66', 1.5), ('67-71', 2.0), ('72-77', 2.5), ('78-86', 3.0), ('87-91', 3.5), ('92-100', 4.0)} # function\n",
    "# relation = {('Babe Ruth', 1), ('Willie Mays', 2), ('Ty Cobb', 3), ('Walter Johnson', 4), ('Hank Aaron', 5)} # function\n",
    "relation = {('January', 31), ('February', 28), ('March', 31), ('April', 30), ('May', 31), ('June', 30), ('July', 31), ('August', 31), ('September', 30), ('October', 31), ('November', 30), ('December', 31)}\n",
    "\n",
    "def swap(_domain, _range):\n",
    "    print(f'zipping {_range} to {_domain}\\n')\n",
    "    return list(zip(_range, _domain))\n",
    "\n",
    "def check():\n",
    "\n",
    "    for index, item in enumerate(relation):\n",
    "\n",
    "        domain.append(item[0])\n",
    "        range_.append(item[1])\n",
    "\n",
    "        if item[0] in relation_dict.keys():\n",
    "\n",
    "            print(f'{item[0]} in {relation_dict.keys()}')\n",
    "\n",
    "            if relation_dict[item[0]] != item[1]:\n",
    "\n",
    "                print(f'{relation_dict[item[0]]} != {item[1]}')\n",
    "                raise UserWarning(f'Not a function, input \\\n",
    "variable yields many outputs. {relation}')\n",
    "\n",
    "        relation_dict[item[0]] = item[1]\n",
    "\n",
    "domain = []\n",
    "range_ = []\n",
    "relation_dict = {}\n",
    "check()\n",
    "\n",
    "# if you want to check and see the relation is a function\n",
    "# after swapping domain and range run next\n",
    "\n",
    "# relation = set(swap(domain, range_))\n",
    "# print(f'Relation: {relation}')\n",
    "# domain = []\n",
    "# range_ = []\n",
    "# relation_dict = {}\n",
    "# check()\n",
    "\n",
    "df = pandas.DataFrame(data=[domain, range_], index=['Domain (input)', 'Range (ouput)'])\n",
    "df\n"
   ]
  },
  {
   "cell_type": "markdown",
   "metadata": {},
   "source": [
    "# Interval Notation\n",
    "\n",
    "|Inequality|Interval Notation|Graph on a number line|Description|\n",
    "|---|---|---|---|\n",
    "|$x>a$|$(a,\\infty)$|$\\leftarrow(a\\longrightarrow$|x is greater than a|\n",
    "|$x<a$|$(-\\infty,a)$|$\\longleftarrow a)\\rightarrow $|x is less than a|\n",
    "|$x\\geq a$|$[a,\\infty)$|"
   ]
  },
  {
   "cell_type": "markdown",
   "metadata": {},
   "source": []
  }
 ],
 "metadata": {
  "kernelspec": {
   "display_name": "Python 3.10.7 64-bit",
   "language": "python",
   "name": "python3"
  },
  "language_info": {
   "codemirror_mode": {
    "name": "ipython",
    "version": 3
   },
   "file_extension": ".py",
   "mimetype": "text/x-python",
   "name": "python",
   "nbconvert_exporter": "python",
   "pygments_lexer": "ipython3",
   "version": "3.10.7"
  },
  "orig_nbformat": 4,
  "vscode": {
   "interpreter": {
    "hash": "916dbcbb3f70747c44a77c7bcd40155683ae19c65e1c03b4aa3499c5328201f1"
   }
  }
 },
 "nbformat": 4,
 "nbformat_minor": 2
}
