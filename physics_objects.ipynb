{
 "cells": [
  {
   "cell_type": "markdown",
   "metadata": {},
   "source": [
    "# Gravity objects"
   ]
  },
  {
   "cell_type": "code",
   "execution_count": 70,
   "metadata": {},
   "outputs": [],
   "source": [
    "import json\n",
    "\n",
    "class Gravity:\n",
    "\n",
    "    '''\n",
    "    Gravity and universal utilities.\n",
    "\n",
    "    Includes\n",
    "\n",
    "        Conversions - meters->kilometers\n",
    "\n",
    "        Formulae - average speed\n",
    "\n",
    "        Gravities - \n",
    "    '''\n",
    "\n",
    "    gforce = 0.0\n",
    "    \n",
    "    def __init__(self, gforce):\n",
    "\n",
    "        \"\"\"\n",
    "        Turn on gravity.\n",
    "\n",
    "        Parameters\n",
    "\n",
    "                gforce = gravitational constant\n",
    "        \"\"\"\n",
    "        \n",
    "        self.gforce = gforce\n",
    "\n",
    "        self.dimensions = 1\n",
    "\n",
    "    def __repr__(self):\n",
    "\n",
    "        return f\"A gravitational field of {self.dimensions} dimensions and {self.gforce} m/s/s gravity.\"\n",
    "\n",
    "    def __eq__(self):\n",
    "\n",
    "        return self.gforce\n",
    "\n",
    "    def set_grav(self, **kwargs):\n",
    "\n",
    "        '''\n",
    "        Set the gravity.\n",
    "\n",
    "        Parameters\n",
    "\n",
    "            Optional\n",
    "\n",
    "                planet : str - set the gravity to that of a known celestial object\n",
    "        '''\n",
    "\n",
    "        kw = kwargs.get('planet', False).lower()\n",
    "        \n",
    "        with open('gravities.json', 'r') as f:\n",
    "\n",
    "            f = f.read()\n",
    "\n",
    "        kw2 = json.loads(f)['planets_surface'].get(kw, False)\n",
    "\n",
    "        return kw2\n",
    "\n",
    "    def cm2km(self, meters):\n",
    "\n",
    "        '''convert meters (m) to kilometers (km)\n",
    "        \n",
    "        m = meters  * (1 km/1000m)\n",
    "        \n",
    "        '''\n",
    "\n",
    "        return meters/1000"
   ]
  },
  {
   "cell_type": "code",
   "execution_count": 71,
   "metadata": {},
   "outputs": [],
   "source": [
    "g1 = Gravity(9.8)"
   ]
  },
  {
   "cell_type": "code",
   "execution_count": 72,
   "metadata": {},
   "outputs": [
    {
     "data": {
      "text/plain": [
       "28.02"
      ]
     },
     "execution_count": 72,
     "metadata": {},
     "output_type": "execute_result"
    }
   ],
   "source": [
    "g1.set_grav(planet='sol')"
   ]
  },
  {
   "cell_type": "code",
   "execution_count": 73,
   "metadata": {},
   "outputs": [
    {
     "data": {
      "text/plain": [
       "0.08"
      ]
     },
     "execution_count": 73,
     "metadata": {},
     "output_type": "execute_result"
    }
   ],
   "source": [
    "g1.cm2km(80)"
   ]
  },
  {
   "cell_type": "code",
   "execution_count": null,
   "metadata": {},
   "outputs": [],
   "source": []
  }
 ],
 "metadata": {
  "kernelspec": {
   "display_name": "Python 3.10.7 64-bit",
   "language": "python",
   "name": "python3"
  },
  "language_info": {
   "codemirror_mode": {
    "name": "ipython",
    "version": 3
   },
   "file_extension": ".py",
   "mimetype": "text/x-python",
   "name": "python",
   "nbconvert_exporter": "python",
   "pygments_lexer": "ipython3",
   "version": "3.10.7"
  },
  "orig_nbformat": 4,
  "vscode": {
   "interpreter": {
    "hash": "916dbcbb3f70747c44a77c7bcd40155683ae19c65e1c03b4aa3499c5328201f1"
   }
  }
 },
 "nbformat": 4,
 "nbformat_minor": 2
}
