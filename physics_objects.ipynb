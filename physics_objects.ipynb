{
 "cells": [
  {
   "cell_type": "markdown",
   "metadata": {},
   "source": [
    "# Gravity objects"
   ]
  },
  {
   "cell_type": "code",
   "execution_count": 156,
   "metadata": {},
   "outputs": [],
   "source": [
    "class Gravity:\n",
    "\n",
    "    gforce = 0.0\n",
    "    \n",
    "    def __init__(self, gforce, size):\n",
    "\n",
    "        \"\"\"\n",
    "        Turn on gravity.\n",
    "\n",
    "        Parameters\n",
    "\n",
    "                gforce = gravitational constant\n",
    "        \"\"\"\n",
    "        \n",
    "        self.gforce = gforce\n",
    "\n",
    "    def __repr__(self):\n",
    "\n",
    "        return f\"{self.gforce} m/s/s\"\n",
    "\n",
    "    def __eq__(self):\n",
    "\n",
    "        return self.gforce\n",
    "\n",
    "class projectile:\n",
    "\n",
    "    def __init__(self, v, angle):\n",
    "        \n",
    "        '''\n",
    "        A projectile. re: https://www.scienceabc.com/nature/why-is-projectile-motion-parabolic.html\n",
    "\n",
    "        Parameters\n",
    "\n",
    "            v : float - The initial velocity.\n",
    "\n",
    "            Φ : float - Angle relative to the ground.\n",
    "        '''\n",
    "\n",
    "        self.initial_velocity = v\n",
    "\n",
    "        self.Φ = angle\n",
    "\n",
    "        self.location = tuple([0,0])\n",
    "\n",
    "    def bang(self, time, g):\n",
    "        \n",
    "        '''\n",
    "        Fire the projectile.\n",
    "        '''\n",
    "\n",
    "        return print(f'V0 * Φ * time(s) - g force: {self.initial_velocity * self.Φ * time - g.gforce}')"
   ]
  },
  {
   "cell_type": "code",
   "execution_count": 157,
   "metadata": {},
   "outputs": [
    {
     "data": {
      "text/plain": [
       "9.8"
      ]
     },
     "execution_count": 157,
     "metadata": {},
     "output_type": "execute_result"
    }
   ],
   "source": [
    "g1 = Gravity(9.8, 5)\n",
    "g1.gforce"
   ]
  },
  {
   "cell_type": "code",
   "execution_count": 158,
   "metadata": {},
   "outputs": [
    {
     "name": "stdout",
     "output_type": "stream",
     "text": [
      "V0 * Φ * time(s) - g force: 2.1999999999999993\n"
     ]
    }
   ],
   "source": [
    "projectile(1, 2).bang(6, g1)"
   ]
  },
  {
   "cell_type": "code",
   "execution_count": null,
   "metadata": {},
   "outputs": [],
   "source": []
  }
 ],
 "metadata": {
  "kernelspec": {
   "display_name": "Python 3.10.7 64-bit",
   "language": "python",
   "name": "python3"
  },
  "language_info": {
   "codemirror_mode": {
    "name": "ipython",
    "version": 3
   },
   "file_extension": ".py",
   "mimetype": "text/x-python",
   "name": "python",
   "nbconvert_exporter": "python",
   "pygments_lexer": "ipython3",
   "version": "3.10.7"
  },
  "orig_nbformat": 4,
  "vscode": {
   "interpreter": {
    "hash": "916dbcbb3f70747c44a77c7bcd40155683ae19c65e1c03b4aa3499c5328201f1"
   }
  }
 },
 "nbformat": 4,
 "nbformat_minor": 2
}
