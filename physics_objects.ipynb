{
 "cells": [
  {
   "cell_type": "markdown",
   "metadata": {},
   "source": [
    "# Gravity objects"
   ]
  },
  {
   "cell_type": "code",
   "execution_count": 23,
   "metadata": {},
   "outputs": [],
   "source": [
    "import json\n",
    "\n",
    "class Gravity:\n",
    "\n",
    "    '''\n",
    "    Gravity and universal utilities.\n",
    "\n",
    "    Includes\n",
    "\n",
    "        Conversions - meters->kilometers\n",
    "\n",
    "        Formulae - average speed\n",
    "\n",
    "        Gravities - \n",
    "    '''\n",
    "\n",
    "    gforce = 0.0\n",
    "    \n",
    "    def __init__(self, gforce):\n",
    "\n",
    "        \"\"\"\n",
    "        Turn on gravity.\n",
    "\n",
    "        Parameters\n",
    "\n",
    "                gforce = gravitational constant\n",
    "        \"\"\"\n",
    "        \n",
    "        self.gforce = gforce\n",
    "\n",
    "        self.dimensions = 1\n",
    "\n",
    "    def __repr__(self):\n",
    "\n",
    "        return f\"A gravitational field of {self.dimensions} dimensions and {self.gforce} m/s/s gravity.\"\n",
    "\n",
    "    def __eq__(self):\n",
    "\n",
    "        return self.gforce\n",
    "\n",
    "    def set_grav(self, **kwargs):\n",
    "\n",
    "        '''\n",
    "        Set the gravity.\n",
    "\n",
    "        Parameters\n",
    "\n",
    "            Optional\n",
    "\n",
    "                planet : str - set the gravity to that of a known celestial object\n",
    "        '''\n",
    "\n",
    "        kw = kwargs.get('planet', False).lower()\n",
    "        \n",
    "        with open('gravities.json', 'r') as f:\n",
    "\n",
    "            f = f.read()\n",
    "\n",
    "        kw2 = json.loads(f)['planets_surface'].get(kw, False)\n",
    "\n",
    "        return kw2\n",
    "\n",
    "    def cm2km(self, meters):\n",
    "\n",
    "        '''convert meters (m) to kilometers (km)\n",
    "        \n",
    "        m = meters  * (1 km/1000m)\n",
    "        \n",
    "        '''\n",
    "\n",
    "        return meters/1000\n",
    "\n",
    "    def calculate_surface_gravity(self, mass, radius) -> int:\n",
    "\n",
    "        '''\n",
    "        G = 6.6743 * 10**-11\n",
    "\n",
    "        M_earth = 6 * 10**24\n",
    "        M_sol = 1.989 * 10**30\n",
    "        mass_units = \"kg\"\n",
    "\n",
    "        r_earth = 6.4 * 10**6\n",
    "        r_sol = 696.34 * 10**6\n",
    "        r_units = \"meters\"\n",
    "\n",
    "        g = (G * M_sol) / r_sol**2\n",
    "        '''\n",
    "\n",
    "        return ((6.6743 * 10**-11)*mass) / radius**2\n",
    "\n",
    "class Ballistics:\n",
    "\n",
    "    def __init__(self):\n",
    "\n",
    "        pass\n",
    "\n",
    "    def accuracy_precision(self):\n",
    "\n",
    "        '''\n",
    "        The difference between accuracy and precision.\n",
    "        '''\n",
    "\n",
    "        print('''\n",
    "                [0,0,0,0,0]\n",
    "                [0,0,0,0,0]\n",
    "                [0,0,0,0,0]\n",
    "                [0,0,0,0,0]\n",
    "                [0,0,0,0,0]\n",
    "            ''')\n",
    "\n",
    "        print('This is a target. 1s indicate hits by a group of 4 rifle shots.')\n",
    "\n",
    "        print('''\n",
    "            \n",
    "        ''')"
   ]
  },
  {
   "cell_type": "code",
   "execution_count": 24,
   "metadata": {},
   "outputs": [],
   "source": [
    "g1 = Gravity(9.8)"
   ]
  },
  {
   "cell_type": "code",
   "execution_count": 25,
   "metadata": {},
   "outputs": [
    {
     "data": {
      "text/plain": [
       "28.02"
      ]
     },
     "execution_count": 25,
     "metadata": {},
     "output_type": "execute_result"
    }
   ],
   "source": [
    "g1.set_grav(planet='sol')"
   ]
  },
  {
   "cell_type": "code",
   "execution_count": 26,
   "metadata": {},
   "outputs": [
    {
     "data": {
      "text/plain": [
       "0.08"
      ]
     },
     "execution_count": 26,
     "metadata": {},
     "output_type": "execute_result"
    }
   ],
   "source": [
    "g1.cm2km(80)"
   ]
  },
  {
   "cell_type": "code",
   "execution_count": 27,
   "metadata": {},
   "outputs": [
    {
     "data": {
      "text/plain": [
       "9.776806640624999"
      ]
     },
     "execution_count": 27,
     "metadata": {},
     "output_type": "execute_result"
    }
   ],
   "source": [
    "g1.calculate_surface_gravity(6 * 10**24, 6.4 * 10**6)"
   ]
  },
  {
   "cell_type": "code",
   "execution_count": 28,
   "metadata": {},
   "outputs": [
    {
     "name": "stdout",
     "output_type": "stream",
     "text": [
      "\n",
      "                [0,0,0,0,0],\n",
      "                [0,0,0,0,0],\n",
      "                [0,0,0,0,0],\n",
      "                [0,0,0,0,0],\n",
      "                [0,0,0,0,0]\n",
      "            \n",
      "This is a target. 1s indicate hits by a group of 4 rifle shots.\n"
     ]
    }
   ],
   "source": [
    "Ballistics().accuracy_precision()"
   ]
  },
  {
   "cell_type": "markdown",
   "metadata": {},
   "source": [
    "https://assets.openstax.org/oscms-prodcms/media/documents/College_Physics-WEB_2s5sHvR.pdf?_gl=1*1rqj2a4*_ga*NDYzMTAyMjczLjE2Njg2Mzk5OTk.*_ga_T746F8B0QC*MTY2ODczMzI0NS4yLjEuMTY2ODczMzI2NS40MC4wLjA."
   ]
  },
  {
   "cell_type": "markdown",
   "metadata": {},
   "source": []
  },
  {
   "cell_type": "code",
   "execution_count": null,
   "metadata": {},
   "outputs": [],
   "source": []
  }
 ],
 "metadata": {
  "kernelspec": {
   "display_name": "Python 3.10.7 64-bit",
   "language": "python",
   "name": "python3"
  },
  "language_info": {
   "codemirror_mode": {
    "name": "ipython",
    "version": 3
   },
   "file_extension": ".py",
   "mimetype": "text/x-python",
   "name": "python",
   "nbconvert_exporter": "python",
   "pygments_lexer": "ipython3",
   "version": "3.10.7"
  },
  "orig_nbformat": 4,
  "vscode": {
   "interpreter": {
    "hash": "916dbcbb3f70747c44a77c7bcd40155683ae19c65e1c03b4aa3499c5328201f1"
   }
  }
 },
 "nbformat": 4,
 "nbformat_minor": 2
}
