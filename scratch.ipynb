{
 "cells": [
  {
   "cell_type": "markdown",
   "metadata": {},
   "source": [
    "# Intermediate Algebra\n",
    "\n",
    "## Find Factors, Prime Factorizations, and Least Common Multiples\n",
    "\n",
    "### Calculate a series of multiples; the product of a base number and a counting number.\n",
    "\n",
    "Two methods are shown.\n",
    "\n",
    "- The first is the familiar for loop method, printing the output to the sys.stdout.\n",
    "- The second returns a pandas DataFrame, with a single series."
   ]
  },
  {
   "cell_type": "code",
   "execution_count": 379,
   "metadata": {},
   "outputs": [],
   "source": [
    "import numpy as np\n",
    "import pandas as pd\n",
    "import json\n",
    "import time\n",
    "\n",
    "def big_table(count: int):\n",
    "\n",
    "    '''\n",
    "    Show a big table of multiples.\n",
    "\n",
    "    Parameters:\n",
    "\n",
    "        count : int     The number of base number tables to generate.\n",
    "    '''\n",
    "\n",
    "    table_container = []\n",
    "\n",
    "    for i in range(1, count+1):\n",
    "\n",
    "        table_container.append(mult_table_internal(i, 12))\n",
    "\n",
    "    df = pd.DataFrame()\n",
    "\n",
    "    for i in table_container:\n",
    "\n",
    "        df = pd.concat([df, i], axis=1, ignore_index=True)\n",
    "\n",
    "    df.columns = [x for x in range(1, df.shape[1]+1)]\n",
    "    \n",
    "    return df\n",
    "\n",
    "def mult_table(base: int, count: int) -> pd.DataFrame:\n",
    "\n",
    "    '''\n",
    "    Calculate and display the multiples of a base number.\n",
    "\n",
    "    Formula: base*i for i in range(count).\n",
    "\n",
    "    Parameters:\n",
    "\n",
    "        base : int      The base number for which to calculate multiples.\n",
    "\n",
    "        count : int     The range of counting numbers.\n",
    "\n",
    "    Returns:\n",
    "\n",
    "        df : dataframe  The table of mutliples in a dataframe.\n",
    "    '''\n",
    "\n",
    "    start = time.time()\n",
    "\n",
    "    base = int(base)\n",
    "\n",
    "    count = int(count)\n",
    "\n",
    "    '''\n",
    "    Traditional for loop method:\n",
    "\n",
    "    for i in range(1, count+1, 1):\n",
    "\n",
    "        print(f'{base} * {i} = {base*i}')\n",
    "    '''\n",
    "\n",
    "    df = pd.DataFrame([base*i for i in range(count+1)], columns=[f'Multiples of {base}'], index=[f'{base}*{i}' for i in range(count+1)])\n",
    "\n",
    "    stop = time.time()\n",
    "\n",
    "    return df\n",
    "\n",
    "def mult_table_internal(base: int, count: int) -> pd.DataFrame:\n",
    "\n",
    "    '''\n",
    "    Calculate and display the multiples of a base number.\n",
    "\n",
    "    Formula: base*i for i in range(count).\n",
    "\n",
    "    Parameters:\n",
    "\n",
    "        base : int      The base number for which to calculate multiples.\n",
    "\n",
    "        count : int     The range of counting numbers.\n",
    "\n",
    "    Returns:\n",
    "\n",
    "        df : dataframe  The table of mutliples in a dataframe.\n",
    "    '''\n",
    "\n",
    "    start = time.time()\n",
    "\n",
    "    base = int(base)\n",
    "\n",
    "    count = int(count)\n",
    "\n",
    "    '''\n",
    "    Traditional for loop method:\n",
    "\n",
    "    for i in range(1, count+1, 1):\n",
    "\n",
    "        print(f'{base} * {i} = {base*i}')\n",
    "    '''\n",
    "\n",
    "    df = pd.DataFrame([base*i for i in range(count+1)])\n",
    "\n",
    "    stop = time.time()\n",
    "\n",
    "    return df"
   ]
  },
  {
   "cell_type": "code",
   "execution_count": 380,
   "metadata": {},
   "outputs": [
    {
     "data": {
      "text/html": [
       "<div>\n",
       "<style scoped>\n",
       "    .dataframe tbody tr th:only-of-type {\n",
       "        vertical-align: middle;\n",
       "    }\n",
       "\n",
       "    .dataframe tbody tr th {\n",
       "        vertical-align: top;\n",
       "    }\n",
       "\n",
       "    .dataframe thead th {\n",
       "        text-align: right;\n",
       "    }\n",
       "</style>\n",
       "<table border=\"1\" class=\"dataframe\">\n",
       "  <thead>\n",
       "    <tr style=\"text-align: right;\">\n",
       "      <th></th>\n",
       "      <th>Multiples of 3</th>\n",
       "    </tr>\n",
       "  </thead>\n",
       "  <tbody>\n",
       "    <tr>\n",
       "      <th>3*0</th>\n",
       "      <td>0</td>\n",
       "    </tr>\n",
       "    <tr>\n",
       "      <th>3*1</th>\n",
       "      <td>3</td>\n",
       "    </tr>\n",
       "    <tr>\n",
       "      <th>3*2</th>\n",
       "      <td>6</td>\n",
       "    </tr>\n",
       "    <tr>\n",
       "      <th>3*3</th>\n",
       "      <td>9</td>\n",
       "    </tr>\n",
       "    <tr>\n",
       "      <th>3*4</th>\n",
       "      <td>12</td>\n",
       "    </tr>\n",
       "    <tr>\n",
       "      <th>3*5</th>\n",
       "      <td>15</td>\n",
       "    </tr>\n",
       "    <tr>\n",
       "      <th>3*6</th>\n",
       "      <td>18</td>\n",
       "    </tr>\n",
       "    <tr>\n",
       "      <th>3*7</th>\n",
       "      <td>21</td>\n",
       "    </tr>\n",
       "    <tr>\n",
       "      <th>3*8</th>\n",
       "      <td>24</td>\n",
       "    </tr>\n",
       "    <tr>\n",
       "      <th>3*9</th>\n",
       "      <td>27</td>\n",
       "    </tr>\n",
       "    <tr>\n",
       "      <th>3*10</th>\n",
       "      <td>30</td>\n",
       "    </tr>\n",
       "    <tr>\n",
       "      <th>3*11</th>\n",
       "      <td>33</td>\n",
       "    </tr>\n",
       "    <tr>\n",
       "      <th>3*12</th>\n",
       "      <td>36</td>\n",
       "    </tr>\n",
       "  </tbody>\n",
       "</table>\n",
       "</div>"
      ],
      "text/plain": [
       "      Multiples of 3\n",
       "3*0                0\n",
       "3*1                3\n",
       "3*2                6\n",
       "3*3                9\n",
       "3*4               12\n",
       "3*5               15\n",
       "3*6               18\n",
       "3*7               21\n",
       "3*8               24\n",
       "3*9               27\n",
       "3*10              30\n",
       "3*11              33\n",
       "3*12              36"
      ]
     },
     "execution_count": 380,
     "metadata": {},
     "output_type": "execute_result"
    }
   ],
   "source": [
    "mult_table(3, 12)"
   ]
  },
  {
   "cell_type": "code",
   "execution_count": 381,
   "metadata": {},
   "outputs": [
    {
     "data": {
      "text/html": [
       "<div>\n",
       "<style scoped>\n",
       "    .dataframe tbody tr th:only-of-type {\n",
       "        vertical-align: middle;\n",
       "    }\n",
       "\n",
       "    .dataframe tbody tr th {\n",
       "        vertical-align: top;\n",
       "    }\n",
       "\n",
       "    .dataframe thead th {\n",
       "        text-align: right;\n",
       "    }\n",
       "</style>\n",
       "<table border=\"1\" class=\"dataframe\">\n",
       "  <thead>\n",
       "    <tr style=\"text-align: right;\">\n",
       "      <th></th>\n",
       "      <th>0</th>\n",
       "      <th>1</th>\n",
       "      <th>2</th>\n",
       "      <th>3</th>\n",
       "      <th>4</th>\n",
       "      <th>5</th>\n",
       "      <th>6</th>\n",
       "      <th>7</th>\n",
       "      <th>8</th>\n",
       "      <th>9</th>\n",
       "      <th>10</th>\n",
       "      <th>11</th>\n",
       "      <th>12</th>\n",
       "    </tr>\n",
       "  </thead>\n",
       "  <tbody>\n",
       "    <tr>\n",
       "      <th>1</th>\n",
       "      <td>0</td>\n",
       "      <td>1</td>\n",
       "      <td>2</td>\n",
       "      <td>3</td>\n",
       "      <td>4</td>\n",
       "      <td>5</td>\n",
       "      <td>6</td>\n",
       "      <td>7</td>\n",
       "      <td>8</td>\n",
       "      <td>9</td>\n",
       "      <td>10</td>\n",
       "      <td>11</td>\n",
       "      <td>12</td>\n",
       "    </tr>\n",
       "    <tr>\n",
       "      <th>2</th>\n",
       "      <td>0</td>\n",
       "      <td>2</td>\n",
       "      <td>4</td>\n",
       "      <td>6</td>\n",
       "      <td>8</td>\n",
       "      <td>10</td>\n",
       "      <td>12</td>\n",
       "      <td>14</td>\n",
       "      <td>16</td>\n",
       "      <td>18</td>\n",
       "      <td>20</td>\n",
       "      <td>22</td>\n",
       "      <td>24</td>\n",
       "    </tr>\n",
       "    <tr>\n",
       "      <th>3</th>\n",
       "      <td>0</td>\n",
       "      <td>3</td>\n",
       "      <td>6</td>\n",
       "      <td>9</td>\n",
       "      <td>12</td>\n",
       "      <td>15</td>\n",
       "      <td>18</td>\n",
       "      <td>21</td>\n",
       "      <td>24</td>\n",
       "      <td>27</td>\n",
       "      <td>30</td>\n",
       "      <td>33</td>\n",
       "      <td>36</td>\n",
       "    </tr>\n",
       "    <tr>\n",
       "      <th>4</th>\n",
       "      <td>0</td>\n",
       "      <td>4</td>\n",
       "      <td>8</td>\n",
       "      <td>12</td>\n",
       "      <td>16</td>\n",
       "      <td>20</td>\n",
       "      <td>24</td>\n",
       "      <td>28</td>\n",
       "      <td>32</td>\n",
       "      <td>36</td>\n",
       "      <td>40</td>\n",
       "      <td>44</td>\n",
       "      <td>48</td>\n",
       "    </tr>\n",
       "    <tr>\n",
       "      <th>5</th>\n",
       "      <td>0</td>\n",
       "      <td>5</td>\n",
       "      <td>10</td>\n",
       "      <td>15</td>\n",
       "      <td>20</td>\n",
       "      <td>25</td>\n",
       "      <td>30</td>\n",
       "      <td>35</td>\n",
       "      <td>40</td>\n",
       "      <td>45</td>\n",
       "      <td>50</td>\n",
       "      <td>55</td>\n",
       "      <td>60</td>\n",
       "    </tr>\n",
       "    <tr>\n",
       "      <th>6</th>\n",
       "      <td>0</td>\n",
       "      <td>6</td>\n",
       "      <td>12</td>\n",
       "      <td>18</td>\n",
       "      <td>24</td>\n",
       "      <td>30</td>\n",
       "      <td>36</td>\n",
       "      <td>42</td>\n",
       "      <td>48</td>\n",
       "      <td>54</td>\n",
       "      <td>60</td>\n",
       "      <td>66</td>\n",
       "      <td>72</td>\n",
       "    </tr>\n",
       "    <tr>\n",
       "      <th>7</th>\n",
       "      <td>0</td>\n",
       "      <td>7</td>\n",
       "      <td>14</td>\n",
       "      <td>21</td>\n",
       "      <td>28</td>\n",
       "      <td>35</td>\n",
       "      <td>42</td>\n",
       "      <td>49</td>\n",
       "      <td>56</td>\n",
       "      <td>63</td>\n",
       "      <td>70</td>\n",
       "      <td>77</td>\n",
       "      <td>84</td>\n",
       "    </tr>\n",
       "    <tr>\n",
       "      <th>8</th>\n",
       "      <td>0</td>\n",
       "      <td>8</td>\n",
       "      <td>16</td>\n",
       "      <td>24</td>\n",
       "      <td>32</td>\n",
       "      <td>40</td>\n",
       "      <td>48</td>\n",
       "      <td>56</td>\n",
       "      <td>64</td>\n",
       "      <td>72</td>\n",
       "      <td>80</td>\n",
       "      <td>88</td>\n",
       "      <td>96</td>\n",
       "    </tr>\n",
       "    <tr>\n",
       "      <th>9</th>\n",
       "      <td>0</td>\n",
       "      <td>9</td>\n",
       "      <td>18</td>\n",
       "      <td>27</td>\n",
       "      <td>36</td>\n",
       "      <td>45</td>\n",
       "      <td>54</td>\n",
       "      <td>63</td>\n",
       "      <td>72</td>\n",
       "      <td>81</td>\n",
       "      <td>90</td>\n",
       "      <td>99</td>\n",
       "      <td>108</td>\n",
       "    </tr>\n",
       "    <tr>\n",
       "      <th>10</th>\n",
       "      <td>0</td>\n",
       "      <td>10</td>\n",
       "      <td>20</td>\n",
       "      <td>30</td>\n",
       "      <td>40</td>\n",
       "      <td>50</td>\n",
       "      <td>60</td>\n",
       "      <td>70</td>\n",
       "      <td>80</td>\n",
       "      <td>90</td>\n",
       "      <td>100</td>\n",
       "      <td>110</td>\n",
       "      <td>120</td>\n",
       "    </tr>\n",
       "  </tbody>\n",
       "</table>\n",
       "</div>"
      ],
      "text/plain": [
       "    0   1   2   3   4   5   6   7   8   9    10   11   12\n",
       "1    0   1   2   3   4   5   6   7   8   9   10   11   12\n",
       "2    0   2   4   6   8  10  12  14  16  18   20   22   24\n",
       "3    0   3   6   9  12  15  18  21  24  27   30   33   36\n",
       "4    0   4   8  12  16  20  24  28  32  36   40   44   48\n",
       "5    0   5  10  15  20  25  30  35  40  45   50   55   60\n",
       "6    0   6  12  18  24  30  36  42  48  54   60   66   72\n",
       "7    0   7  14  21  28  35  42  49  56  63   70   77   84\n",
       "8    0   8  16  24  32  40  48  56  64  72   80   88   96\n",
       "9    0   9  18  27  36  45  54  63  72  81   90   99  108\n",
       "10   0  10  20  30  40  50  60  70  80  90  100  110  120"
      ]
     },
     "execution_count": 381,
     "metadata": {},
     "output_type": "execute_result"
    }
   ],
   "source": [
    "df = big_table(10)\n",
    "df.T"
   ]
  },
  {
   "cell_type": "markdown",
   "metadata": {},
   "source": [
    "### If divisible?\n",
    "\n",
    "We want to check divisiblity to confirm a number is a multiple.\n",
    "\n",
    "Write an algorithm to test if the input number `n` is a multiple of `x`."
   ]
  },
  {
   "cell_type": "code",
   "execution_count": 382,
   "metadata": {},
   "outputs": [],
   "source": [
    "def divisibility_check(number):\n",
    "\n",
    "    if number%10 == 0 or number%10 == 2 or number%10 == 4 or number%10 == 6 or number%10 == 8:\n",
    "\n",
    "        print('Divisible by 2')\n",
    "\n",
    "    if sum([int(i) for i in list(str(number))])%3 == 0:\n",
    "\n",
    "        print('Divisible by 3')\n",
    "\n",
    "    if number%10 == 0 or number%10 == 5:\n",
    "\n",
    "        print('Divisible by 5')\n",
    "\n",
    "    if (number%10 == 0 or number%10 == 2 or number%10 == 4 or number%10 == 6 or number%10 == 8) and (sum([int(i) for i in list(str(number))])%3 == 0):\n",
    "\n",
    "        print('Divisible by 6')\n",
    "    \n",
    "    if number%10 == 0:\n",
    "\n",
    "        print('Divisible by 10')"
   ]
  },
  {
   "cell_type": "code",
   "execution_count": 383,
   "metadata": {},
   "outputs": [
    {
     "name": "stdout",
     "output_type": "stream",
     "text": [
      "Divisible by 2\n",
      "Divisible by 3\n",
      "Divisible by 6\n"
     ]
    }
   ],
   "source": [
    "divisibility_check(24)"
   ]
  },
  {
   "cell_type": "markdown",
   "metadata": {},
   "source": [
    "### Factorize\n",
    "\n",
    "Display the factors of n, and whether it is prime or composite."
   ]
  },
  {
   "cell_type": "code",
   "execution_count": 384,
   "metadata": {},
   "outputs": [],
   "source": [
    "def factorize(number):\n",
    "\n",
    "    '''\n",
    "    Display factors of `n`, and check primality.\n",
    "\n",
    "    Parameters\n",
    "\n",
    "        n : int - The number to factorize and check for primality.\n",
    "\n",
    "    Note:\n",
    "\n",
    "        Could be optimized by:\n",
    "\n",
    "            - Returning false if `n` is less than or equal to 3.\n",
    "\n",
    "            - Ending the algorithm when n > sqrt(n)\n",
    "    '''\n",
    "\n",
    "    if number == 1:\n",
    "\n",
    "        print('Factors: [1]')\n",
    "\n",
    "        print('It took mathematicians more than 1000 years to decided whether or not 1 is prime.\\nI guess they\\'ve mostly settled on No.')\n",
    "    \n",
    "    else:\n",
    "        \n",
    "        sample_range = []\n",
    "\n",
    "        factors = []\n",
    "\n",
    "        tree = {}\n",
    "\n",
    "        for i in np.linspace(1, number, number):\n",
    "\n",
    "            sample_range.append(int(i))\n",
    "        \n",
    "        for i in range(number):\n",
    "\n",
    "            for j in sample_range:\n",
    "\n",
    "                if i>j:\n",
    "\n",
    "                    pass\n",
    "                \n",
    "                elif i*j == number:\n",
    "\n",
    "                    factors.append(i)\n",
    "                    \n",
    "                    factors.append(j)\n",
    "\n",
    "        factors.sort()\n",
    "\n",
    "        print(f'Factors: {factors}')\n",
    "\n",
    "        if factors[1] == number:\n",
    "\n",
    "            print(f'{number} is prime.')\n",
    "\n",
    "        else:\n",
    "\n",
    "            print(f'{number} is composite.')\n",
    "\n",
    "        return factors\n",
    "\n",
    "def factorize_df(number):\n",
    "\n",
    "    '''\n",
    "    Return a table of factors of n as index, and their factors as a list.\n",
    "\n",
    "    Parameters\n",
    "\n",
    "        number : int - n to factor.\n",
    "    '''\n",
    "\n",
    "    dict = {}\n",
    "\n",
    "    for i in factorize(number):\n",
    "\n",
    "        dict[i] = factorize(i)\n",
    "\n",
    "    return pd.DataFrame.from_dict(dict, orient='index')"
   ]
  },
  {
   "cell_type": "code",
   "execution_count": 385,
   "metadata": {},
   "outputs": [
    {
     "name": "stdout",
     "output_type": "stream",
     "text": [
      "Factors: [1, 23, 61, 1403]\n",
      "1403 is composite.\n"
     ]
    }
   ],
   "source": [
    "f = factorize(1403)"
   ]
  },
  {
   "cell_type": "code",
   "execution_count": 386,
   "metadata": {},
   "outputs": [
    {
     "name": "stdout",
     "output_type": "stream",
     "text": [
      "Factors: [1, 2]\n",
      "2 is prime.\n"
     ]
    }
   ],
   "source": [
    "f = factorize(2)"
   ]
  },
  {
   "cell_type": "code",
   "execution_count": 387,
   "metadata": {},
   "outputs": [
    {
     "name": "stdout",
     "output_type": "stream",
     "text": [
      "Factors: [1]\n",
      "It took mathematicians more than 1000 years to decided whether or not 1 is prime.\n",
      "I guess they've mostly settled on No.\n"
     ]
    }
   ],
   "source": [
    "f = factorize(1)"
   ]
  },
  {
   "cell_type": "markdown",
   "metadata": {},
   "source": [
    "### Multiplicative Inverse\n",
    "\n",
    "Display the multiplicative inverse of n, which if you know what that is congratulations on your job in mathematics."
   ]
  },
  {
   "cell_type": "code",
   "execution_count": 388,
   "metadata": {},
   "outputs": [],
   "source": [
    "def multiplicative_inverse(number):\n",
    "\n",
    "    '''\n",
    "    Display the multiplicative inverse of n.\n",
    "\n",
    "    Formula: n * (1/n) = 1, where (1/n) is the multiplicative inverse.\n",
    "\n",
    "    Parameters:\n",
    "\n",
    "        number : int - The number from which to determine the multiplicative inverse.\n",
    "    '''\n",
    "\n",
    "    if number * (1/number) == 1.0:\n",
    "\n",
    "        print(f'{1/number} is the multiplicative inverse of {number}.')"
   ]
  },
  {
   "cell_type": "code",
   "execution_count": 389,
   "metadata": {},
   "outputs": [
    {
     "name": "stdout",
     "output_type": "stream",
     "text": [
      "0.00011412919424788861 is the multiplicative inverse of 8762.\n"
     ]
    }
   ],
   "source": [
    "multiplicative_inverse(8762)"
   ]
  },
  {
   "cell_type": "code",
   "execution_count": 390,
   "metadata": {},
   "outputs": [
    {
     "data": {
      "text/plain": [
       "1.0"
      ]
     },
     "execution_count": 390,
     "metadata": {},
     "output_type": "execute_result"
    }
   ],
   "source": [
    "0.00011412919424788861 * 8762"
   ]
  },
  {
   "cell_type": "markdown",
   "metadata": {},
   "source": [
    "### Least Common Multiples\n",
    "\n",
    "Using the prime factors method"
   ]
  },
  {
   "cell_type": "code",
   "execution_count": 396,
   "metadata": {},
   "outputs": [
    {
     "data": {
      "text/html": [
       "<div>\n",
       "<style scoped>\n",
       "    .dataframe tbody tr th:only-of-type {\n",
       "        vertical-align: middle;\n",
       "    }\n",
       "\n",
       "    .dataframe tbody tr th {\n",
       "        vertical-align: top;\n",
       "    }\n",
       "\n",
       "    .dataframe thead th {\n",
       "        text-align: right;\n",
       "    }\n",
       "</style>\n",
       "<table border=\"1\" class=\"dataframe\">\n",
       "  <thead>\n",
       "    <tr style=\"text-align: right;\">\n",
       "      <th></th>\n",
       "      <th>0</th>\n",
       "    </tr>\n",
       "  </thead>\n",
       "  <tbody>\n",
       "    <tr>\n",
       "      <th>1</th>\n",
       "      <td>None</td>\n",
       "    </tr>\n",
       "    <tr>\n",
       "      <th>2</th>\n",
       "      <td>[1, 2]</td>\n",
       "    </tr>\n",
       "    <tr>\n",
       "      <th>4</th>\n",
       "      <td>[1, 2, 2, 4]</td>\n",
       "    </tr>\n",
       "    <tr>\n",
       "      <th>31</th>\n",
       "      <td>[1, 31]</td>\n",
       "    </tr>\n",
       "    <tr>\n",
       "      <th>62</th>\n",
       "      <td>[1, 2, 31, 62]</td>\n",
       "    </tr>\n",
       "    <tr>\n",
       "      <th>124</th>\n",
       "      <td>[1, 2, 4, 31, 62, 124]</td>\n",
       "    </tr>\n",
       "  </tbody>\n",
       "</table>\n",
       "</div>"
      ],
      "text/plain": [
       "                          0\n",
       "1                      None\n",
       "2                    [1, 2]\n",
       "4              [1, 2, 2, 4]\n",
       "31                  [1, 31]\n",
       "62           [1, 2, 31, 62]\n",
       "124  [1, 2, 4, 31, 62, 124]"
      ]
     },
     "execution_count": 396,
     "metadata": {},
     "output_type": "execute_result"
    }
   ],
   "source": [
    "from IPython.display import clear_output\n",
    "\n",
    "# get table of factors\n",
    "df = factorize_df(124)\n",
    "clear_output()\n",
    "df"
   ]
  },
  {
   "cell_type": "markdown",
   "metadata": {},
   "source": [
    "### Graph a number line"
   ]
  },
  {
   "cell_type": "code",
   "execution_count": 64,
   "metadata": {},
   "outputs": [],
   "source": [
    "import matplotlib.pyplot as plt\n",
    "\n",
    "class Plotter:\n",
    "\n",
    "    def __init__(self, x, y):\n",
    "\n",
    "        '''\n",
    "        Simple data plotter.\n",
    "\n",
    "        Parameters:\n",
    "\n",
    "            x : float|int\n",
    "\n",
    "            y : float|int\n",
    "\n",
    "            optional\n",
    "\n",
    "                title : str - Title of the plot.\n",
    "\n",
    "        Methods:\n",
    "\n",
    "            plot()\n",
    "        '''\n",
    "\n",
    "        self._x = x\n",
    "\n",
    "        self._y = y\n",
    "\n",
    "    def plot(self, ax=None, **kw):\n",
    "\n",
    "        '''\n",
    "        Rigid plotter for a 2d line plot.\n",
    "        '''\n",
    "\n",
    "        if ax is None:\n",
    "\n",
    "            ax = plt.gca()\n",
    "\n",
    "        ax.plot(self._x, self._y)\n",
    "        \n",
    "        ax.set_title(kw.get('title', ''))\n",
    "\n",
    "        return ax"
   ]
  },
  {
   "cell_type": "code",
   "execution_count": 65,
   "metadata": {},
   "outputs": [
    {
     "data": {
      "text/plain": [
       "<AxesSubplot:title={'center':'My calories to $ ratio over time'}>"
      ]
     },
     "execution_count": 65,
     "metadata": {},
     "output_type": "execute_result"
    },
    {
     "data": {
      "image/png": "[encoded data removed]",
      "text/plain": [
       "<Figure size 432x288 with 1 Axes>"
      ]
     },
     "metadata": {
      "needs_background": "light"
     },
     "output_type": "display_data"
    }
   ],
   "source": [
    "d = Plotter([0, 1, 2, 3], [0, 0.5, 0.3, 1.2])\n",
    "d.plot(title='My calories to $ ratio over time')\n"
   ]
  },
  {
   "cell_type": "code",
   "execution_count": 66,
   "metadata": {},
   "outputs": [
    {
     "data": {
      "text/plain": [
       "<AxesSubplot:title={'center':'My time.'}>"
      ]
     },
     "execution_count": 66,
     "metadata": {},
     "output_type": "execute_result"
    },
    {
     "data": {
      "image/png": "[encoded data removed]",
      "text/plain": [
       "<Figure size 432x288 with 1 Axes>"
      ]
     },
     "metadata": {
      "needs_background": "light"
     },
     "output_type": "display_data"
    }
   ],
   "source": [
    "d = Plotter([1, 2, 3, 4], [1, 0, 0, 0])\n",
    "d.plot(title='My time.')\n"
   ]
  },
  {
   "cell_type": "code",
   "execution_count": null,
   "metadata": {},
   "outputs": [],
   "source": []
  }
 ],
 "metadata": {
  "kernelspec": {
   "display_name": "Python 3.10.7 64-bit",
   "language": "python",
   "name": "python3"
  },
  "language_info": {
   "codemirror_mode": {
    "name": "ipython",
    "version": 3
   },
   "file_extension": ".py",
   "mimetype": "text/x-python",
   "name": "python",
   "nbconvert_exporter": "python",
   "pygments_lexer": "ipython3",
   "version": "3.10.7"
  },
  "orig_nbformat": 4,
  "vscode": {
   "interpreter": {
    "hash": "916dbcbb3f70747c44a77c7bcd40155683ae19c65e1c03b4aa3499c5328201f1"
   }
  }
 },
 "nbformat": 4,
 "nbformat_minor": 2
}
