{
 "cells": [
  {
   "attachments": {},
   "cell_type": "markdown",
   "metadata": {},
   "source": [
    "## Descriptive Statistics\n",
    "Organizing and summarizing data.\n",
    "\n",
    "## Inferential Statistics\n",
    "Use formal methods to draw conclusions from good data. Uses probability to determine how confident we can be that the conclusions are correct."
   ]
  },
  {
   "attachments": {},
   "cell_type": "markdown",
   "metadata": {},
   "source": [
    "---\n",
    "## Levels of measurement\n",
    "\n",
    "### Nominal Scale"
   ]
  },
  {
   "cell_type": "code",
   "execution_count": 1,
   "metadata": {},
   "outputs": [],
   "source": [
    "question = 'What is your favorite food?'\n",
    "nominal_scale = ['orange', 'banana', 'apple']\n",
    "\n",
    "question = 'What are the the FAANG tech companies?'\n",
    "nominal_scale = ['Apple', 'Facebook', 'Google', 'Amazon', 'Netflix']\n",
    "\n",
    "question = 'Are you happy?'\n",
    "nominal_scale = ['yes', 'no', 'i don\\'t know']"
   ]
  },
  {
   "attachments": {},
   "cell_type": "markdown",
   "metadata": {},
   "source": [
    "### Ordinal Scale"
   ]
  },
  {
   "cell_type": "code",
   "execution_count": 2,
   "metadata": {},
   "outputs": [],
   "source": [
    "question = 'What are the top 3 earning companies in the world in descending order?'\n",
    "ordinal_scale = ['Apple Inc.', 'Saudi Aramco', 'Microsoft Corp.']\n",
    "# Note the list is ordered, but we cannot measure the \n",
    "# difference between the 3 based on this data.\n",
    "\n",
    "question = 'How much do you enjoy your job?'\n",
    "ordinal_scale = ['love', 'like', 'its ok', 'dislike', 'loathe']"
   ]
  },
  {
   "attachments": {},
   "cell_type": "markdown",
   "metadata": {},
   "source": [
    "### Interval Scale\n",
    "\n",
    "A scale in which the difference between data can be measured but there is no true zero point and ratios are meaningless, such as in temperature in Farhenheit or Celsius. 30 degrees is not twice as warm as 15 degrees, because temperature doesn't actually begin at 0. Additionally, the distance between intervals is meaningful and equal."
   ]
  },
  {
   "cell_type": "code",
   "execution_count": 3,
   "metadata": {},
   "outputs": [],
   "source": [
    "question = 'what time of day is it?'\n",
    "answer = ['morning', 'afternoon', 'evening']\n",
    "\n",
    "question = 'what income class are you?'\n",
    "answer = ['lower', 'middle', 'upper']\n",
    "\n",
    "question = 'what year is it?'\n",
    "answer = 2023"
   ]
  },
  {
   "attachments": {},
   "cell_type": "markdown",
   "metadata": {},
   "source": [
    "### Ratio Scale\n",
    "\n",
    "A scale in which a ratio between ordered data can be calculated. The kelvin score begins at absolute zero and works up, so ratios can be calculated. Income is another ratio scale. Someone who earns $100k annually makes twice the income of someone that earns $50k."
   ]
  },
  {
   "cell_type": "code",
   "execution_count": 5,
   "metadata": {},
   "outputs": [],
   "source": [
    "question = 'what were the students\\' test scores?'\n",
    "answer = [20, 68, 80, 92]\n",
    "# This scale has a ratio because the scale begins at zero or a base point,\n",
    "# and ratios from zero can be calculated. A score of 80 is 4 times better than 20.\n",
    "\n",
    "question = 'how much do things weigh in kg?'\n",
    "answer = [10, 100]\n",
    "# The object that weighs 100 kg is 10 times heavier than the one that weighs 10 kg."
   ]
  },
  {
   "attachments": {},
   "cell_type": "markdown",
   "metadata": {},
   "source": [
    "### Exercises\n",
    "\n",
    "#### What type of measure scale is being used? [nominal, ordinal, interval, ratio]\n",
    "\n",
    "1. High school men soccer players classified by their athletic ability: [superior, average, above average]\n",
    "> *ordinal*\n",
    "    \n",
    "2. Baking temperatures for main dishes: [350, 400, 325, 250, 300]\n",
    "> *interval*\n",
    "\n",
    "3. The colors of crayons in a 24-crayon box.\n",
    "> *nominal*\n",
    "\n",
    "4. Social security numbers.\n",
    "> *nominal*\n",
    "\n",
    "5. Incomes measured in dollars.\n",
    "> *ratio*\n",
    "\n",
    "6. A satisfaction survey of a social website by number: [1 = very satisfied, 2 = somewhat satisfied, 3 = not satisfied]\n",
    "> *ordinal*\n",
    "\n",
    "7. Political outlook: [extreme left, left-of-center, center, right-of-center, extreme right]\n",
    "> *nominal*\n",
    "\n",
    "8. Time of day on an analog watch. (A 12-hour watch is interval because it has two sets of the same numbers)\n",
    "> *interval*\n",
    "\n",
    "9. The distance in miles to the nearest grocery store.\n",
    "> *ratio*\n",
    "\n",
    "10. The dates [1066, 1492, 1947, 1944]\n",
    "> *interval*\n",
    "\n",
    "11. The heights of 21-65 year-old women.\n",
    "> *ratio*\n",
    "\n",
    "12. Common letter grades [A, B, C, D, F]\n",
    "> *ordinal*"
   ]
  },
  {
   "cell_type": "markdown",
   "metadata": {},
   "source": []
  }
 ],
 "metadata": {
  "kernelspec": {
   "display_name": "Github-hcQeaQZX",
   "language": "python",
   "name": "python3"
  },
  "language_info": {
   "codemirror_mode": {
    "name": "ipython",
    "version": 3
   },
   "file_extension": ".py",
   "mimetype": "text/x-python",
   "name": "python",
   "nbconvert_exporter": "python",
   "pygments_lexer": "ipython3",
   "version": "3.10.7"
  },
  "orig_nbformat": 4,
  "vscode": {
   "interpreter": {
    "hash": "337a01a9867c4d15c88a4ace816aac99a452f458043f83d30253e4c7acd59713"
   }
  }
 },
 "nbformat": 4,
 "nbformat_minor": 2
}
