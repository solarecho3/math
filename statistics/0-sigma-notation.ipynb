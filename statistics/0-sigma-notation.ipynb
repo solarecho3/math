{
 "cells": [
  {
   "cell_type": "markdown",
   "metadata": {},
   "source": [
    "# Sigma notation\n",
    "\n",
    "In order to provide a quick way to display summation, we use the greek letter $\\sum$ (capital sigma ($\\sigma$)) to denote summation.\n",
    "\n",
    "If we want to sum all the letters to 100 and display the function, in simplest terms we would be forced to write: $1+2+3+...+99+100$\n",
    "\n",
    "So for the sum: $$1+2+3+...+9+10$$ we can use $$\\sum_{i=1}^{10}i$$ where the index = 1, goes to 10, and the sum of all indexes.\n",
    "\n",
    "---\n",
    "\n",
    "So for the sum: $$1+2+3+...+99+100$$ we can use $$\\sum_{i=1}^{100}i$$\n",
    "\n",
    "---\n",
    "\n",
    "If our sum function is $$\\sum_{i=0}^{50}\\pi i^2$$ would be $$\\pi 0^2 + \\pi 1^2 + \\pi 2^2 + ... + \\pi 49^2 + \\pi 50^2$$ or $$\\pi 0 + \\pi 1 + \\pi 4 + ... + \\pi 2401 + \\pi 2500$$"
   ]
  }
 ],
 "metadata": {
  "language_info": {
   "name": "python"
  },
  "orig_nbformat": 4
 },
 "nbformat": 4,
 "nbformat_minor": 2
}
